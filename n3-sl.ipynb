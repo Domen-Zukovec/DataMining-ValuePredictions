{
 "cells": [
  {
   "cell_type": "markdown",
   "metadata": {
    "lang": "sl"
   },
   "source": [
    "## Napovedovanje vrednosti\n",
    "\n",
    "Podatkovno rudarjenje, naloga, `19/4/2021`  \n",
    "**`Domen Žukovec`**"
   ]
  },
  {
   "cell_type": "markdown",
   "metadata": {
    "lang": "sl"
   },
   "source": [
    "Spoznali bomo praktično uporabo enostavnih metod nadzorovanega modeliranja oz.\n",
    "napovedovanja.  Skupna lastnost vseh omenjenih metod je, da s pomočjo\n",
    "naključnih spremenljivk (atributov) modelirajo vrednosti posebne spremenljivke,\n",
    "ki ji pravimo *razred* (v kontekstu uvrščanja v razrede, klasifikacije)\n",
    "ali *odziv* (v kontekstu regresije). Osnovne razlike med kontekstoma smo\n",
    "spoznali na predavanjih in vajah.\n",
    "\n",
    "Praktična cilja, ki ju bomo zasledovali sta:\n",
    "* modeliranje ocen posameznega uporabnika (odziva) s pomočjo vseh ostalih uporabnikov,\n",
    "* primerjava metod nadzorovanega modeliranja."
   ]
  },
  {
   "cell_type": "markdown",
   "metadata": {
    "lang": "sl"
   },
   "source": [
    "### Podatki\n",
    "\n",
    "Opis podatkovne zbirke MovieLens ostaja enak prvi nalogi."
   ]
  },
  {
   "cell_type": "markdown",
   "metadata": {
    "lang": "sl"
   },
   "source": [
    "### Predpriprava podatkov\n",
    "\n",
    "Za potrebe te naloge bomo podatke pripravili na naslednji način:\n",
    "1. Izberi $m$ filmov z vsaj 100 ogledi.\n",
    "2. Izberi $n$ uporabnikov, ki si je ogledalo vsaj 100 filmov.\n",
    "3. Pripravi matriko $X$ velikosti $m \\times n$, kjer vrstice predstavljajo filme, stolpci pa uporabnike. Neznane vrednosti zamenjaj z $0$.\n",
    "\n",
    "Za vsakega od izbranih $n$ uporabnikov bo zgrajen regresijski model, \n",
    "katerega cilj bo napoved ocen za filme. "
   ]
  },
  {
   "cell_type": "markdown",
   "metadata": {},
   "source": [
    "<table>\n",
    "    <tr style=\"background-color: white;\">\n",
    "        <td style=\"border-right: 1px solid #000;\"></td>\n",
    "        <td></td>\n",
    "        <td style=\"border-right: 1px solid #000; border-left: 1px solid #000;\">$y^{(0)}$</td>\n",
    "        <td colspan=3 style=\"text-align:center;\">$X^{(0)}$</td>\n",
    "    </tr>\n",
    "    <tr style=\"border-bottom: 1px solid #000;\">\n",
    "        <td style=\"border-right: 1px solid #000;\"></td>\n",
    "        <td>Film/uporabnik</td>\n",
    "        <td style=\"border-right: 1px solid #000; border-left: 1px solid #000;\">$u_0$</td>\n",
    "        <td>$u_1$</td>\n",
    "        <td>$u_2$</td>\n",
    "        <td>$\\cdots$</td>\n",
    "    </tr>\n",
    "    <tr>\n",
    "        <td style=\"border-right: 1px solid #000;\">${f_1}$</td>\n",
    "        <td>Twelve Monkeys (a.k.a. 12 Monkeys) (1995)</td>\n",
    "        <td style=\"border-right: 1px solid #000; border-left: 1px solid #000;\">0</td>\n",
    "        <td>0</td>\n",
    "        <td>2.5</td>\n",
    "        <td>$\\cdots$</td>\n",
    "    </tr>\n",
    "    <tr>\n",
    "        <td style=\"border-right: 1px solid #000;\">${f_2}$</td>\n",
    "        <td>Dances with  Wolves (1990) </td>\n",
    "        <td style=\"border-right: 1px solid #000; border-left: 1px solid #000;\">4</td>\n",
    "        <td>0</td>\n",
    "        <td>0</td>\n",
    "        <td>$\\cdots$</td>\n",
    "    </tr>\n",
    "    <tr>\n",
    "        <td style=\"border-right: 1px solid #000;\">${f_3}$</td>\n",
    "        <td>Apollo 13 (1995)</td>\n",
    "        <td style=\"border-right: 1px solid #000; border-left: 1px solid #000;\">0</td>\n",
    "        <td>2</td>\n",
    "        <td>0</td>\n",
    "        <td>$\\cdots$</td>\n",
    "    </tr>\n",
    "    <tr>\n",
    "        <td style=\"border-right: 1px solid #000;\">${f_4}$</td>\n",
    "        <td>Sixth Sense, The (1999)</td><td style=\"border-right: 1px solid #000; border-left: 1px solid #000;\">3</td>\n",
    "        <td>0</td>\n",
    "        <td>4</td>\n",
    "        <td>$\\cdots$</td>\n",
    "    </tr>\n",
    "    <tr>\n",
    "        <td style=\"border-right: 1px solid #000;\">$\\cdots$</td>\n",
    "        <td>$\\cdots$</td>\n",
    "        <td style=\"border-right: 1px solid #000; border-left: 1px solid #000;\">$\\cdots$</td>\n",
    "        <td>$\\cdots$</td>\n",
    "        <td>$\\cdots$</td>\n",
    "        <td>$\\cdots$</td>\n",
    "    </tr>\n",
    "</table>\n",
    "\n",
    "<table>\n",
    "    <tr style=\"background-color: white;\">\n",
    "        <td style=\"border-right: 1px solid #000;\"></td>\n",
    "        <td></td>\n",
    "        <td style=\"border-right: 1px solid #000; border-left: 1px solid #000;\">$y^{(1)}$</td>\n",
    "        <td colspan=3 style=\"text-align:center;\">$X^{(1)}$</td>\n",
    "    </tr>\n",
    "    <tr style=\"border-bottom: 1px solid #000;\">\n",
    "        <td style=\"border-right: 1px solid #000;\"></td>\n",
    "        <td>Film/uporabnik</td>\n",
    "        <td style=\"border-right: 1px solid #000; border-left: 1px solid #000;\">$u_1$</td>\n",
    "        <td>$u_0$</td>\n",
    "        <td>$u_2$</td>\n",
    "        <td>$\\cdots$</td>\n",
    "    </tr>\n",
    "    <tr>\n",
    "        <td style=\"border-right: 1px solid #000;\">${f_1}$</td>\n",
    "        <td>Twelve Monkeys (a.k.a. 12 Monkeys) (1995)</td>\n",
    "        <td style=\"border-right: 1px solid #000; border-left: 1px solid #000;\">0</td>\n",
    "        <td>0</td>\n",
    "        <td>2.5</td>\n",
    "        <td>$\\cdots$</td>\n",
    "    </tr>\n",
    "    <tr>\n",
    "        <td style=\"border-right: 1px solid #000;\">${f_2}$</td>\n",
    "        <td>Dances with  Wolves (1990) </td>\n",
    "        <td style=\"border-right: 1px solid #000; border-left: 1px solid #000;\">0</td>\n",
    "        <td>4</td>\n",
    "        <td>0</td>\n",
    "        <td>$\\cdots$</td>\n",
    "    </tr>\n",
    "    <tr>\n",
    "        <td style=\"border-right: 1px solid #000;\">${f_3}$</td>\n",
    "        <td>Apollo 13 (1995)</td>\n",
    "        <td style=\"border-right: 1px solid #000; border-left: 1px solid #000;\">2</td>\n",
    "        <td>0</td>\n",
    "        <td>0</td>\n",
    "        <td>$\\cdots$</td>\n",
    "    </tr>\n",
    "    <tr>\n",
    "        <td style=\"border-right: 1px solid #000;\">${f_4}$</td>\n",
    "        <td>Sixth Sense, The (1999)</td><td style=\"border-right: 1px solid #000; border-left: 1px solid #000;\">0</td>\n",
    "        <td>3</td>\n",
    "        <td>4</td>\n",
    "        <td>$\\cdots$</td>\n",
    "    </tr>\n",
    "    <tr>\n",
    "        <td style=\"border-right: 1px solid #000;\">$\\cdots$</td>\n",
    "        <td>$\\cdots$</td>\n",
    "        <td style=\"border-right: 1px solid #000; border-left: 1px solid #000;\">$\\cdots$</td>\n",
    "        <td>$\\cdots$</td>\n",
    "        <td>$\\cdots$</td>\n",
    "        <td>$\\cdots$</td>\n",
    "    </tr>\n",
    "</table>"
   ]
  },
  {
   "cell_type": "markdown",
   "metadata": {
    "lang": "sl"
   },
   "source": [
    "Razdelitev podatkov za model uporabnika $u_0$ (zgorja matrika) in uporabnika $u_1$ (spodaj matrika)."
   ]
  },
  {
   "cell_type": "markdown",
   "metadata": {
    "lang": "sl"
   },
   "source": [
    "### Vprašanja"
   ]
  },
  {
   "cell_type": "markdown",
   "metadata": {
    "lang": "sl"
   },
   "source": [
    "#### 1. Regresija (100%) \n",
    "Za vsakega uporabnika postavite regresijski model. Uporabite eno ali več metod za učenje regresijskih modelov (linearna regresija, Ridge, Lasso, itd.).\n",
    "\n",
    "Za vsakega od $n$ uporabnikov izberite ustrezni stolpec v matriki podatkov. Za uporabnika $i$ imamo torej:\n",
    "\n",
    "* Vektor odziva $y^{(i)}$,\n",
    "* Matriko podatkov $X^{(i)}$, ki vsebuje vse stolpce *razen* $i$.\n",
    "    \n",
    "Za lažjo predstavo si oglej zgornji tabeli. Nekajkrat (npr., trikrat) ponovite postopek preverjanja s pomočjo učne in testne množice:\n",
    "\n",
    "\n",
    "* Množico filmov, ki si jih je uporabnik ogledal, *naključno* razdelite v razmerju 75% (učna množica) in 25% (testna množica).\n",
    "* Naučite regresijski model na učni množici (izberite ustrezne vrstice v $X$ in $y$).\n",
    "* Ovrednotite model na testni množici (ponovno izberite ustrezne vrstice v $X$ in $y$).\n",
    "\n",
    "Oceno vrednotenja nato delite s številom poizkusov, da dobite končno oceno.\n",
    "\n",
    "Poročajte o uspešnosti vašega modela. Pri tem se osredotočite na naslednja vprašanja:\n",
    "* Utemeljite ustrezno mero vrednotenja. Ali model dobro napoveduje ocene?\n",
    "* Z izbrano mero ocenite modele za vseh $n$ uporabnikov.\n",
    "\n",
    "Kodo za odgovore lahko razdelite v več celic."
   ]
  },
  {
   "cell_type": "code",
   "execution_count": 1,
   "metadata": {},
   "outputs": [],
   "source": [
    "from csv import DictReader\n",
    "from datetime import datetime\n",
    "from sklearn import *\n",
    "import matplotlib.pyplot as plt\n",
    "import numpy as np\n",
    "import random\n",
    "from sklearn.metrics import accuracy_score\n",
    "\n",
    "%matplotlib inline\n",
    "\n",
    "\n",
    "naslov = {}\n",
    "zanr = {}\n",
    "cast = {}\n",
    "imdb = {}\n",
    "tmdb = {}\n",
    "rating = {}\n",
    "timestamp = {} \n",
    "tag = {}\n",
    "timestamp_tag = {}\n",
    "    \n",
    "reader = DictReader(open('podatki/ml-latest-small/movies.csv', 'rt', encoding='utf-8'))\n",
    "for row in reader:\n",
    "    naslov[row[\"movieId\"]] = row[\"title\"]\n",
    "    zanr[row[\"movieId\"]] = row[\"genres\"]\n",
    "    \n",
    "reader = DictReader(open('podatki/ml-latest-small/cast.csv', 'rt', encoding='utf-8'))\n",
    "for row in reader:\n",
    "    cast[row[\"movieId\"]] = row[\"cast\"]\n",
    "    \n",
    "reader = DictReader(open('podatki/ml-latest-small/links.csv', 'rt', encoding='utf-8'))\n",
    "for row in reader:\n",
    "    imdb[row[\"movieId\"]] = row[\"imdbId\"]\n",
    "    tmdb[row[\"movieId\"]] = row[\"tmdbId\"]\n",
    "    \n",
    "reader = DictReader(open('podatki/ml-latest-small/ratings.csv', 'rt', encoding='utf-8'))\n",
    "for row in reader:\n",
    "    t = (row[\"userId\"], row[\"movieId\"])\n",
    "    rating[t] = row[\"rating\"]\n",
    "    ts = datetime.fromtimestamp(int(row[\"timestamp\"])).strftime('%Y-%m-%d %H:%M')\n",
    "    timestamp[t] = ts\n",
    "    \n",
    "reader = DictReader(open('podatki/ml-latest-small/tags.csv', 'rt', encoding='utf-8'))\n",
    "for row in reader:\n",
    "    t = (row[\"userId\"], row[\"movieId\"])\n",
    "    tag[t] = row[\"tag\"]\n",
    "    ts = datetime.fromtimestamp(int(row[\"timestamp\"])).strftime('%Y-%m-%d %H:%M')\n",
    "    timestamp_tag[t] = ts"
   ]
  },
  {
   "cell_type": "code",
   "execution_count": 2,
   "metadata": {},
   "outputs": [],
   "source": [
    "reader = DictReader(open('podatki/ml-latest-small/ratings.csv', 'rt', encoding='utf-8'))\n",
    "tmpd = {}\n",
    "for row in reader:\n",
    "    if not(row[\"movieId\"] in tmpd):\n",
    "        tmpd[row[\"movieId\"]] = 1\n",
    "    else:\n",
    "        tmpd[row[\"movieId\"]] += 1"
   ]
  },
  {
   "cell_type": "code",
   "execution_count": 3,
   "metadata": {},
   "outputs": [],
   "source": [
    "reader = DictReader(open('podatki/ml-latest-small/ratings.csv', 'rt', encoding='utf-8'))\n",
    "tmpd = {}\n",
    "for row in reader:\n",
    "    if not(row[\"movieId\"] in tmpd):\n",
    "        tmpd[row[\"movieId\"]]=1\n",
    "    else:\n",
    "        tmpd[row[\"movieId\"]] += 1\n",
    "           \n",
    "film_numOcen = [i[0] for i in list(filter(lambda x: x[1] >= 100,sorted(tmpd.items(), key=lambda x: x[1])[::-1]))]"
   ]
  },
  {
   "cell_type": "code",
   "execution_count": 4,
   "metadata": {},
   "outputs": [],
   "source": [
    "reader = DictReader(open('podatki/ml-latest-small/ratings.csv', 'rt', encoding='utf-8'))\n",
    "tmpd = {}\n",
    "for row in reader:\n",
    "    if not(row[\"userId\"] in tmpd):\n",
    "        tmpd[row[\"userId\"]]=1\n",
    "    else:\n",
    "        tmpd[row[\"userId\"]] +=1\n",
    "        \n",
    "user_numOcen = [i[0] for i in list(filter(lambda x: x[1] >= 100,sorted(tmpd.items(), key=lambda x: x[1])[::-1]))]"
   ]
  },
  {
   "cell_type": "code",
   "execution_count": 5,
   "metadata": {},
   "outputs": [],
   "source": [
    "reader = DictReader(open('podatki/ml-latest-small/ratings.csv', 'rt', encoding='utf-8'))\n",
    "matrika = []\n",
    "for film in film_numOcen:\n",
    "    tmp = []\n",
    "    for user in user_numOcen:\n",
    "        if (user, film) in rating.keys():\n",
    "            tmp.append(float(rating[(user, film)]))\n",
    "        else:\n",
    "            tmp.append(0)\n",
    "    matrika.append(tmp)"
   ]
  },
  {
   "cell_type": "code",
   "execution_count": 6,
   "metadata": {},
   "outputs": [],
   "source": [
    "def MAPE(values, predictions):\n",
    "    error = 0\n",
    "    for i in range(len(values)):\n",
    "        if values[i] > 0:\n",
    "            error += abs((values[i] - predictions[i]) / values[i])\n",
    "    return error / len(values)"
   ]
  },
  {
   "cell_type": "code",
   "execution_count": 7,
   "metadata": {},
   "outputs": [],
   "source": [
    "regressors = {\"Baysian\": linear_model.BayesianRidge(), \"Lasso\": linear_model.Lasso(alpha=0.1), \"LR\": linear_model.LinearRegression(), \"RF\": ensemble.RandomForestRegressor(max_depth = 20, n_estimators = 50), \"SVM\": svm.SVR(gamma = 'scale')}"
   ]
  },
  {
   "cell_type": "code",
   "execution_count": 16,
   "metadata": {
    "scrolled": true
   },
   "outputs": [
    {
     "name": "stdout",
     "output_type": "stream",
     "text": [
      "       0 User\n",
      "               MAE                       MSE\n",
      "        Baysian | 0.937140        Baysian | 1.422430\n",
      "          Lasso | 0.815100          Lasso | 1.106540\n",
      "             LR | 0.936740             LR | 1.421610\n",
      "             RF | 0.792620             RF | 0.897870\n",
      "            SVM | 0.759070            SVM | 0.976920\n",
      "\n",
      "       1 User\n",
      "               MAE                       MSE\n",
      "        Baysian | 1.173990        Baysian | 2.175730\n",
      "          Lasso | 1.107540          Lasso | 1.862940\n",
      "             LR | 1.173010             LR | 2.176700\n",
      "             RF | 1.024000             RF | 1.488720\n",
      "            SVM | 0.972750            SVM | 1.410350\n",
      "\n",
      "       2 User\n",
      "               MAE                       MSE\n",
      "        Baysian | 0.568100        Baysian | 0.547350\n",
      "          Lasso | 0.537190          Lasso | 0.492810\n",
      "             LR | 0.569030             LR | 0.547970\n",
      "             RF | 0.544440             RF | 0.452010\n",
      "            SVM | 0.544690            SVM | 0.480940\n",
      "\n",
      "       3 User\n",
      "               MAE                       MSE\n",
      "        Baysian | 1.309090        Baysian | 2.710670\n",
      "          Lasso | 1.064890          Lasso | 1.849210\n",
      "             LR | 1.308700             LR | 2.710010\n",
      "             RF | 1.054040             RF | 1.819090\n",
      "            SVM | 0.965900            SVM | 1.468230\n",
      "\n",
      "       4 User\n",
      "               MAE                       MSE\n",
      "        Baysian | 0.634900        Baysian | 0.660700\n",
      "          Lasso | 0.579890          Lasso | 0.562820\n",
      "             LR | 0.635290             LR | 0.660190\n",
      "             RF | 0.524380             RF | 0.469310\n",
      "            SVM | 0.500840            SVM | 0.452660\n",
      "\n"
     ]
    }
   ],
   "source": [
    "from sklearn.metrics import mean_absolute_error as mae\n",
    "\n",
    "i = 0\n",
    "#če želimo izpisati rezultate za vse uporabnike namesto 5 (ki bo izpisal samo prvih 5) napišemo \"len(user_numOcen)-1\"\n",
    "while i < 5:    \n",
    "    X = np.array(matrika)\n",
    "   \n",
    "\n",
    "    dataY = X[:,[i]]\n",
    "    dataX = np.delete(X, i, 1)\n",
    "\n",
    "    #REMOVE ALL THE 0   \n",
    "    j = 0\n",
    "    while j < len(dataY):\n",
    "        if dataY[j] == 0:\n",
    "            dataX = np.delete(dataX, j, axis=0)\n",
    "            dataY = np.delete(dataY, j, axis=0)\n",
    "        else:\n",
    "            j += 1\n",
    "\n",
    "\n",
    "    devide = int(len(dataY) * 75 / 100)\n",
    "    shuffler = np.random.permutation(len(dataY))\n",
    "    dataY = dataY[shuffler]\n",
    "    dataX = dataX[shuffler]\n",
    "\n",
    "    train_dataX = dataX[:devide]\n",
    "    train_dataY = dataY[:devide]\n",
    "    test_dataX = dataX[devide:]\n",
    "    test_dataY = dataY[devide:]\n",
    "    \n",
    "    shuffler = np.random.permutation(len(dataY))\n",
    "    dataY1 = dataY[shuffler]\n",
    "    dataX1 = dataX[shuffler]\n",
    "\n",
    "    train_dataX1 = dataX1[:devide]\n",
    "    train_dataY1 = dataY1[:devide]\n",
    "    test_dataX1 = dataX1[devide:]\n",
    "    test_dataY1 = dataY1[devide:]\n",
    "    \n",
    "    shuffler = np.random.permutation(len(dataY))\n",
    "    dataY2 = dataY[shuffler]\n",
    "    dataX2 = dataX[shuffler]\n",
    "\n",
    "    train_dataX2 = dataX2[:devide]\n",
    "    train_dataY2 = dataY2[:devide]\n",
    "    test_dataX2 = dataX2[devide:]\n",
    "    test_dataY2 = dataY2[devide:]\n",
    "    \n",
    "    print(\"{:>8s} User\".format(str(i)))\n",
    "    print(\"               MAE                       MSE\")\n",
    "    for name, regressor in regressors.items():\n",
    "        regressor.fit(train_dataX, train_dataY.ravel())\n",
    "        test_predictions = regressor.predict(test_dataX)\n",
    "        avg = mae(test_dataY, test_predictions)\n",
    "        \n",
    "        regressor.fit(train_dataX1, train_dataY1.ravel())\n",
    "        test_predictions = regressor.predict(test_dataX1)\n",
    "        avg = avg + mae(test_dataY1, test_predictions)\n",
    "        \n",
    "        regressor.fit(train_dataX2, train_dataY2.ravel())\n",
    "        test_predictions = regressor.predict(test_dataX2)\n",
    "        avg = avg + mae(test_dataY2, test_predictions)\n",
    "        \n",
    "        avg = avg / 3\n",
    "           \n",
    "        regressor.fit(train_dataX, train_dataY.ravel())\n",
    "        test_predictions = regressor.predict(test_dataX)\n",
    "        avg2 = metrics.mean_squared_error(test_dataY, test_predictions)\n",
    "        \n",
    "        regressor.fit(train_dataX1, train_dataY1.ravel())\n",
    "        test_predictions = regressor.predict(test_dataX1)\n",
    "        avg2 = avg2 + metrics.mean_squared_error(test_dataY1, test_predictions)\n",
    "        \n",
    "        regressor.fit(train_dataX2, train_dataY2.ravel())\n",
    "        test_predictions = regressor.predict(test_dataX2)\n",
    "        avg2 = avg2 + metrics.mean_squared_error(test_dataY2, test_predictions)\n",
    "        \n",
    "        avg2 = avg2 / 3\n",
    "        print(\"{:>15s} | \".format(name) + str(format(round(avg, 5), '.6f')) +  \"{:>15s} | \".format(name) + str(format(round(avg2, 5), '.6f')))   \n",
    "        \n",
    "        #print(\"{:>8s} | \".format(name) + str(avg))            \n",
    "    print()\n",
    "#     for name, regressor in regressors.items():\n",
    "#         regressor.fit(train_dataX, train_dataY.ravel())\n",
    "#         test_predictions = regressor.predict(test_dataX)\n",
    "#         print(\"{:>8s} | \".format(name) + str(100 * MAPE(test_dataY, test_predictions) % 1000))\n",
    "\n",
    "    i += 1"
   ]
  },
  {
   "cell_type": "markdown",
   "metadata": {},
   "source": [
    "**V zgornji celici izpišem MAE in MSE za prvih pet uporabnikov (če želimo izpisati rezultate za vse uporabnike namesto samo prvih pet v zgornjem foru namesto 5 napišemo len(user_numOcen)-1), ki so naredili vsaj 100 ocen za filme, ki imajo vsaj 100 ogledov oz. ocen. Modeli pri nekaterih uporabnikih ocenjujejo zelo dobro (je blizu 0), za nekatere uporabnike malo slabše, nekatere pa udari čisto mimo (kjer je več kot 1).**\n",
    "\n",
    "**Za vsakega uporabnika trikrat vzamem naključnih 75% kot učno množico in 25% kot testno množico in vsakič zračunam njegov MAE in MSE, jih seštejem in delim s tri, da dobim poprečje.**\n",
    "\n",
    "**Odvisno od uporabnika in pa določenega pogona celice se mi zdi da model dobro ocenjuje (kdaj se zgodi, da ocenjuje slabše), odvisno od naključne množice učenja in testiranja.**"
   ]
  },
  {
   "cell_type": "markdown",
   "metadata": {
    "lang": "sl"
   },
   "source": [
    "#### Bonus vprašanje (15%)\n",
    "Ustvarite novega uporabnika, ki predstavlja vaše ocene\n",
    "filmov. Ocenite nekaj filmov po lastnem okusu in preverite, kako modeli ocenijo neizbrane filme.\n",
    "Ali se vam zdijo napovedi primerne?\n",
    "\n",
    "Kodo za odgovore lahko razdelite v več celic."
   ]
  },
  {
   "cell_type": "code",
   "execution_count": 9,
   "metadata": {},
   "outputs": [],
   "source": [
    "Y = np.array(matrika)"
   ]
  },
  {
   "cell_type": "code",
   "execution_count": 10,
   "metadata": {
    "scrolled": true
   },
   "outputs": [],
   "source": [
    "# moje_ocene = []\n",
    "# for i in film_numOcen:\n",
    "#     print(naslov[i])\n",
    "#     ocena = float(input())\n",
    "#     tmp = [ocena]\n",
    "#     moje_ocene.append(tmp)"
   ]
  },
  {
   "cell_type": "code",
   "execution_count": 11,
   "metadata": {
    "scrolled": true
   },
   "outputs": [],
   "source": [
    "#print(moje_ocene)\n",
    "films = []\n",
    "for i in film_numOcen:\n",
    "    tmp = [int(i)]\n",
    "    films.append(tmp)"
   ]
  },
  {
   "cell_type": "code",
   "execution_count": 12,
   "metadata": {},
   "outputs": [],
   "source": [
    "moje_ocene = [[4.0], [4.0], [4.0], [4.0], [4.0], [5.0], [5.0], [5.0], [0.0], [3.0], [4.0], [0.0], [4.0], [0.0], [5.0], [0.0],\n",
    "              [3.0], [5.0], [3.0], [0.0], [2.0], [0.0], [0.0], [0.0], [5.0], [3.0], [4.0], [0.0], [0.0], [0.0], [0.0], [0.0],\n",
    "              [0.0], [5.0], [6.0], [0.0], [0.0], [3.0], [5.0], [5.0], [5.0], [0.0], [3.0], [0.0], [4.0], [2.0], [5.0], [4.0],\n",
    "              [0.0], [5.0], [0.0], [4.0], [0.0], [5.0], [0.0], [0.0], [4.0], [4.0], [3.0], [0.0], [0.0], [0.0], [0.0], [4.0],\n",
    "              [3.0], [0.0], [0.0], [6.0], [4.0], [0.0], [0.0], [0.0], [0.0], [0.0], [5.0], [0.0], [4.0], [3.0], [4.0], [2.0],\n",
    "              [5.0], [0.0], [0.0], [0.0], [0.0], [4.0], [3.0], [0.0], [0.0], [0.0], [0.0], [0.0], [4.0], [0.0], [0.0], [0.0],\n",
    "              [0.0], [0.0], [0.0], [0.0], [0.0], [0.0], [0.0], [0.0], [0.0], [3.0], [0.0], [0.0], [0.0], [0.0], [0.0], [0.0],\n",
    "              [0.0], [0.0], [0.0], [0.0], [0.0], [0.0], [4.0], [0.0], [0.0], [0.0], [6.0], [3.0], [5.0], [0.0], [6.0], [0.0],\n",
    "              [0.0], [0.0], [0.0], [0.0], [0.0], [0.0], [0.0], [0.0], [5.0], [6.0], [0.0], [0.0], [0.0], [0.0], [0.0], [0.0],\n",
    "              [0.0], [0.0], [0.0], [0.0], [0.0], [0.0], [0.0]]\n"
   ]
  },
  {
   "cell_type": "code",
   "execution_count": 13,
   "metadata": {},
   "outputs": [
    {
     "name": "stdout",
     "output_type": "stream",
     "text": [
      "               Lord of the Rings: The Two Towers, The (2002) | 4.661480\n",
      "                              Godfather: Part II, The (1974) | 3.403750\n",
      "                             Who Framed Roger Rabbit? (1988) | 3.447160\n",
      "                                              Jumanji (1995) | 3.984330\n",
      "                                        Bug's Life, A (1998) | 3.888760\n"
     ]
    }
   ],
   "source": [
    "dataY = np.copy(moje_ocene)\n",
    "dataX = Y\n",
    "films = np.array(films)\n",
    "\n",
    "dataX = [x for _,x in sorted(zip(dataY,dataX), key=lambda pair: pair[0])]\n",
    "films = [x for _,x in sorted(zip(dataY,films), key=lambda pair: pair[0])]\n",
    "dataY = sorted(dataY, key =  lambda x : x[0])\n",
    "\n",
    "\n",
    "odstej = 0\n",
    "for i in dataY:\n",
    "    if i == 6:\n",
    "        odstej+=1\n",
    "\n",
    "    \n",
    "\n",
    "j = 0\n",
    "while j < len(dataY):\n",
    "    if dataY[j] == 0:\n",
    "        dataX = np.delete(dataX, j, axis=0)\n",
    "        dataY = np.delete(dataY, j, axis=0)\n",
    "        films = np.delete(films, j, axis=0)\n",
    "    else:\n",
    "        j += 1\n",
    "\n",
    "devide = int(len(dataY) - odstej)\n",
    "\n",
    "train_dataX = dataX[:devide]\n",
    "train_dataY = dataY[:devide]\n",
    "test_dataX = dataX[devide:]\n",
    "test_dataY = dataY[devide:]\n",
    "test_filmi = films[devide:]\n",
    "\n",
    "for name, regressor in regressors.items():\n",
    "        regressor.fit(train_dataX, train_dataY.ravel())\n",
    "        test_predictions = regressor.predict(test_dataX)\n",
    "i = 0\n",
    "for j in test_predictions:\n",
    "    print(\"{:>60} | \".format(naslov[str(int(test_filmi[i]))]) + str(format(round(j, 5), '.6f')))\n",
    "    i += 1"
   ]
  },
  {
   "cell_type": "markdown",
   "metadata": {},
   "source": [
    "**Tu lahko uporabnik (če se od komentira druga celica) vpisuje ocene filmov:**\n",
    "   \n",
    "       [0] si še ni ogledal filma  \n",
    "       [1-5] ocena filma  \n",
    "       [6] ga zanima kakšno oceno zanj prevideva model\n",
    "    \n",
    "**Nato izpišem naslove filmov in ocene, ki jih prevedeva zanje**\n",
    "\n",
    "**Narejeno pa imam že tabelo ocen mojih filmov, in zdi se mi, da nekatere zadene perfektno, kakšnega pa malo preceni ali pa podceni**\n",
    "    "
   ]
  },
  {
   "cell_type": "markdown",
   "metadata": {
    "lang": "sl"
   },
   "source": [
    "### Zapiski\n",
    "\n",
    "Implementacijo, opis in vrednotenje metod za nadzorovanjo učenje vsebujejo knjižnice `sklearn` ali `Orange`."
   ]
  }
 ],
 "metadata": {
  "kernelspec": {
   "display_name": "Python 3",
   "language": "python",
   "name": "python3"
  },
  "language_info": {
   "codemirror_mode": {
    "name": "ipython",
    "version": 3
   },
   "file_extension": ".py",
   "mimetype": "text/x-python",
   "name": "python",
   "nbconvert_exporter": "python",
   "pygments_lexer": "ipython3",
   "version": "3.8.5"
  },
  "latex_envs": {
   "LaTeX_envs_menu_present": true,
   "autocomplete": true,
   "bibliofile": "biblio.bib",
   "cite_by": "apalike",
   "current_citInitial": 1,
   "eqLabelWithNumbers": true,
   "eqNumInitial": 1,
   "hotkeys": {
    "equation": "Ctrl-E",
    "itemize": "Ctrl-I"
   },
   "labels_anchors": false,
   "latex_user_defs": false,
   "report_style_numbering": false,
   "user_envs_cfg": false
  },
  "nbTranslate": {
   "displayLangs": [
    "sl"
   ],
   "hotkey": "alt-t",
   "langInMainMenu": true,
   "sourceLang": "sl",
   "targetLang": "en",
   "useGoogleTranslate": true
  }
 },
 "nbformat": 4,
 "nbformat_minor": 2
}
